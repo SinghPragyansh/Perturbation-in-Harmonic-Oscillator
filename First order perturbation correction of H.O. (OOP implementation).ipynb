{
 "cells": [
  {
   "cell_type": "markdown",
   "id": "e018f91a",
   "metadata": {},
   "source": [
    "                                 ## Perturbation in Harmonic Oscillator"
   ]
  },
  {
   "cell_type": "code",
   "execution_count": 4,
   "id": "e577eebd",
   "metadata": {},
   "outputs": [],
   "source": [
    "# V = 0.5*K*x^2\n",
    "# E = (n+ 0.5)* h_cut* omega\n",
    "# omega = sqrt(K/m)\n",
    "# classically, H = 0.5*m*v^2 + 0.5*K*x^2\n",
    "# For quantum mechanical solution, solve the differential equation of S.E.\n",
    "# psi_0 = (1/(3.14)^(0.25))*exp(-s^2)\n",
    "# psi_1 = (sqrt(2)/(3.14)^0.5)*s*exp(-s^2/2)"
   ]
  },
  {
   "cell_type": "code",
   "execution_count": 5,
   "id": "3d09946b",
   "metadata": {},
   "outputs": [],
   "source": [
    "import numpy as np\n",
    "import scipy.integrate as sci\n",
    "import matplotlib.pyplot as plt"
   ]
  },
  {
   "cell_type": "code",
   "execution_count": 32,
   "id": "9bb2e531",
   "metadata": {},
   "outputs": [],
   "source": [
    "class harmonic_oscillator:\n",
    "    def __init__(self,x):\n",
    "        self.K = 1\n",
    "        self.m_e = 1\n",
    "        self.h_cut = 1\n",
    "        self.beta = 0.1\n",
    "        self.x = x\n",
    "        self.s = (np.sqrt(self.K*self.m_e)/np.sqrt(self.h_cut))*self.x\n",
    "        \n",
    "    def norm(self, wf):\n",
    "        prob_dens = abs(np.square(wf))\n",
    "        cons = 1 / np.sqrt(sci.simps(prob_dens, self.x))\n",
    "        \n",
    "        return cons\n",
    "    \n",
    "    def HO_eigen_states(self):\n",
    "        wf_0 = np.exp((-self.s**2)/2) \n",
    "        norm_cons = self.norm(wf_0)\n",
    "        psi_0 = norm_cons*wf_0\n",
    "    \n",
    "        wf_1 = self.s*np.exp((-self.s**2)/2)\n",
    "        norm_cons = self.norm(wf_1)\n",
    "        psi_1 = norm_cons*wf_1\n",
    "    \n",
    "        wf_dict = {\"HO_gs\": psi_0, \"HO_1es\": psi_1}\n",
    "    \n",
    "        return wf_dict\n",
    "    \n",
    "    # Applying Perturbation when w.f. is function of position\n",
    "    # V_0 = 0.5*K*x^2\n",
    "    # V = V_0 + beta*x^4\n",
    "    # first order correction in ground state is\n",
    "    # E0_dash = < psi_0 | V | psi_0 >\n",
    "    # and first order correction for the excited state is \n",
    "    # E1_dash = < psi_1 | V | psi_1 > \n",
    "    \n",
    "    def V_in_x(self):\n",
    "        V_0 = 0.5*self.K*(self.x**2)\n",
    "        V_dash = self.beta*(self.x**4)\n",
    "    \n",
    "        potential = {\"unperturbed\": V_0, \"perturbed\": V_dash}\n",
    "    \n",
    "        return potential\n",
    "    \n",
    "    # expressing perturbation in terms of 's', s.t. integration with the w.f. can happen\n",
    "    def V_in_s(self):\n",
    "        V_0 = 0.5*self.K*(self.h_cut*(self.s**2) / np.sqrt(self.K*self.m_e))\n",
    "        V_dash = self.beta*(self.h_cut**2)*(self.s**4)/(self.K*self.m_e)\n",
    "\n",
    "        potential = {\"unperturbed\": V_0, \"perturbed\": V_dash}\n",
    "\n",
    "        return potential\n",
    "    \n",
    "    def energy_calculation(self,V, psi):\n",
    "        integrand = np.conj(psi) * V * psi\n",
    "        e = np.round(sci.simps(integrand, self.x), 5)\n",
    "\n",
    "        return e\n",
    "    \n",
    "    def connect_all(self, state_key, potential_key):\n",
    "        potential = self.V_in_s()\n",
    "        pot = potential[potential_key]\n",
    "        \n",
    "        eigen_states = self.HO_eigen_states()\n",
    "        state = eigen_states[state_key]\n",
    "        \n",
    "        E = self.energy_calculation(pot, state)\n",
    "        \n",
    "        return E"
   ]
  },
  {
   "cell_type": "code",
   "execution_count": null,
   "id": "82c32f5b",
   "metadata": {},
   "outputs": [],
   "source": []
  },
  {
   "cell_type": "code",
   "execution_count": 30,
   "id": "62af452f",
   "metadata": {},
   "outputs": [],
   "source": [
    "# E0 = (0.5)*h_cut*omega\n",
    "# since, h_cut = 1, m_e = 1, and K = 1 therefore omega = 1\n",
    "# but we are ignoring the K.E. for now, therefore only dealing with the potenital energy"
   ]
  },
  {
   "cell_type": "markdown",
   "id": "8d2ac38c",
   "metadata": {},
   "source": [
    "                                # Ground State Calculations and corrections"
   ]
  },
  {
   "cell_type": "code",
   "execution_count": 43,
   "id": "c23c8842",
   "metadata": {},
   "outputs": [
    {
     "data": {
      "text/plain": [
       "0.25"
      ]
     },
     "execution_count": 43,
     "metadata": {},
     "output_type": "execute_result"
    }
   ],
   "source": [
    "# External input trial a\n",
    "\n",
    "potential_key = \"unperturbed\"\n",
    "state_key = \"HO_gs\"\n",
    "x = np.arange(-5,5.01, 0.01)\n",
    "method = harmonic_oscillator(x)\n",
    "\n",
    "E_a = method.connect_all(state_key, potential_key)\n",
    "E_a"
   ]
  },
  {
   "cell_type": "code",
   "execution_count": 44,
   "id": "c97cec3d",
   "metadata": {},
   "outputs": [
    {
     "data": {
      "text/plain": [
       "0.075"
      ]
     },
     "execution_count": 44,
     "metadata": {},
     "output_type": "execute_result"
    }
   ],
   "source": [
    "# External input trial b\n",
    "# Calculating only 1st order perturbation part of g.s.\n",
    "state_key = \"HO_gs\"\n",
    "potential_key = \"perturbed\"\n",
    "\n",
    "E_b = method.connect_all(state_key, potential_key)\n",
    "E_b"
   ]
  },
  {
   "cell_type": "code",
   "execution_count": 48,
   "id": "63b2f3b5",
   "metadata": {},
   "outputs": [
    {
     "data": {
      "text/plain": [
       "0.325"
      ]
     },
     "execution_count": 48,
     "metadata": {},
     "output_type": "execute_result"
    }
   ],
   "source": [
    "## Corrected G.S. Energy\n",
    "E_gs = E_a + E_b\n",
    "E_gs"
   ]
  },
  {
   "cell_type": "markdown",
   "id": "ae37aad8",
   "metadata": {},
   "source": [
    "                               # Excited State Calculations and corrections "
   ]
  },
  {
   "cell_type": "code",
   "execution_count": 49,
   "id": "645626ee",
   "metadata": {},
   "outputs": [
    {
     "data": {
      "text/plain": [
       "0.75"
      ]
     },
     "execution_count": 49,
     "metadata": {},
     "output_type": "execute_result"
    }
   ],
   "source": [
    "state_key = \"HO_1es\"\n",
    "potential_key = \"unperturbed\"\n",
    "E_c = method.connect_all(state_key, potential_key)\n",
    "E_c"
   ]
  },
  {
   "cell_type": "code",
   "execution_count": 50,
   "id": "6eb7af1c",
   "metadata": {},
   "outputs": [
    {
     "data": {
      "text/plain": [
       "0.375"
      ]
     },
     "execution_count": 50,
     "metadata": {},
     "output_type": "execute_result"
    }
   ],
   "source": [
    "state_key = \"HO_1es\"\n",
    "potential_key = \"perturbed\" \n",
    "E_d = method.connect_all(state_key, potential_key)\n",
    "E_d"
   ]
  },
  {
   "cell_type": "code",
   "execution_count": 53,
   "id": "a0e3f609",
   "metadata": {},
   "outputs": [
    {
     "data": {
      "text/plain": [
       "1.125"
      ]
     },
     "execution_count": 53,
     "metadata": {},
     "output_type": "execute_result"
    }
   ],
   "source": [
    "## Corrected E.S energy\n",
    "E_1es = E_c + E_d\n",
    "E_1es"
   ]
  },
  {
   "cell_type": "code",
   "execution_count": null,
   "id": "0e61fae4",
   "metadata": {},
   "outputs": [],
   "source": []
  }
 ],
 "metadata": {
  "kernelspec": {
   "display_name": "Python 3 (ipykernel)",
   "language": "python",
   "name": "python3"
  },
  "language_info": {
   "codemirror_mode": {
    "name": "ipython",
    "version": 3
   },
   "file_extension": ".py",
   "mimetype": "text/x-python",
   "name": "python",
   "nbconvert_exporter": "python",
   "pygments_lexer": "ipython3",
   "version": "3.9.9"
  }
 },
 "nbformat": 4,
 "nbformat_minor": 5
}
