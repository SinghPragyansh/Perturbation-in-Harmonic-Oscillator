{
 "cells": [
  {
   "cell_type": "markdown",
   "id": "dd27a223",
   "metadata": {},
   "source": [
    "                            ## Perturbation in Harmonic Oscillator"
   ]
  },
  {
   "cell_type": "code",
   "execution_count": 18,
   "id": "614c544c",
   "metadata": {},
   "outputs": [],
   "source": [
    "# V = 0.5*K*x^2\n",
    "# E = (n+ 0.5)* h_cut* omega\n",
    "# omega = sqrt(K/m)\n",
    "# classically, H = 0.5*m*v^2 + 0.5*K*x^2\n",
    "# For quantum mechanical solution, solve the differential equation of S.E.\n",
    "# psi_0 = (1/(3.14)^(0.25))*exp(-s^2)\n",
    "# psi_1 = (sqrt(2)/(3.14)^0.5)*s*exp(-s^2/2)"
   ]
  },
  {
   "cell_type": "code",
   "execution_count": 19,
   "id": "074ee9af",
   "metadata": {},
   "outputs": [],
   "source": [
    "import numpy as np\n",
    "import scipy.integrate as sci\n",
    "import matplotlib.pyplot as plt"
   ]
  },
  {
   "cell_type": "code",
   "execution_count": 20,
   "id": "30a9b50c",
   "metadata": {},
   "outputs": [],
   "source": [
    "K = 1\n",
    "m_e = 1\n",
    "h_cut = 1\n",
    "x = np.arange(-5,5.01,0.01)\n",
    "s = (np.sqrt(K*m_e)/np.sqrt(h_cut))*x\n",
    "beta = 0.1"
   ]
  },
  {
   "cell_type": "code",
   "execution_count": 21,
   "id": "f3e4a322",
   "metadata": {},
   "outputs": [],
   "source": [
    "def normalise(wf,x):\n",
    "        prob_den = abs(wf)**2\n",
    "        norm = 1/np.sqrt(sci.simps(prob_den, x))\n",
    "        return norm"
   ]
  },
  {
   "cell_type": "code",
   "execution_count": 22,
   "id": "58cde8bd",
   "metadata": {},
   "outputs": [],
   "source": [
    "def HO_states():\n",
    "    wf_0 = np.exp((-s**2)/2) \n",
    "    norm = normalise(wf_0,s)\n",
    "    psi_0 = norm*wf_0\n",
    "    \n",
    "    wf_1 = s*np.exp((-s**2)/2)\n",
    "    norm = normalise(wf_1, s)\n",
    "    psi_1 = norm*wf_1\n",
    "    \n",
    "    wf_list = {\"HO_gs\": psi_0, \"HO_1es\": psi_1}\n",
    "    \n",
    "    return wf_list"
   ]
  },
  {
   "cell_type": "markdown",
   "id": "9c8e03a4",
   "metadata": {},
   "source": [
    "                 # Applying Perturbation when w.f. is function of position"
   ]
  },
  {
   "cell_type": "code",
   "execution_count": 23,
   "id": "50fde0f9",
   "metadata": {},
   "outputs": [],
   "source": [
    "# V_0 = 0.5*K*x^2\n",
    "# V = V_0 + beta*x^4\n",
    "# first order correction in ground state is\n",
    "# E0_dash = < psi_0 | V | psi_0 >\n",
    "# and first order correction for the excited state is \n",
    "# E1_dash = < psi_1 | V | psi_1 > "
   ]
  },
  {
   "cell_type": "code",
   "execution_count": 80,
   "id": "b69f677c",
   "metadata": {},
   "outputs": [],
   "source": [
    "def V_in_x(x):\n",
    "    V_0 = 0.5*K*(x**2)\n",
    "    V_dash = beta*(x**4)\n",
    "    \n",
    "    potential = {\"unperturbed\": V_0, \"perturbed\": V_dash}\n",
    "    \n",
    "    return potential"
   ]
  },
  {
   "cell_type": "code",
   "execution_count": 81,
   "id": "0ce1c17a",
   "metadata": {},
   "outputs": [],
   "source": [
    "# expressing perturbation in terms of 's', s.t. integration with the w.f. can happen\n",
    "def V_in_s(s):\n",
    "    V_0 = 0.5*K*(h_cut*(s**2) / np.sqrt(K*m_e))\n",
    "    V_dash = beta*(h_cut**2)*(s**4)/(K*m_e)\n",
    "    \n",
    "    potential = {\"unperturbed\": V_0, \"perturbed\": V_dash}\n",
    "    \n",
    "    return potential"
   ]
  },
  {
   "cell_type": "code",
   "execution_count": 82,
   "id": "796525e1",
   "metadata": {},
   "outputs": [],
   "source": [
    "def energy_calculation(V, psi, x):\n",
    "    integrand = np.conj(psi) * V * psi\n",
    "    e = np.round(sci.simps(integrand, x), 5)\n",
    "    \n",
    "    return e"
   ]
  },
  {
   "cell_type": "code",
   "execution_count": 83,
   "id": "89bdf18b",
   "metadata": {},
   "outputs": [],
   "source": [
    "# E0 = (0.5)*h_cut*omega\n",
    "# since, h_cut = 1, m_e = 1, and K = 1 therefore omega = 1\n",
    "# but we are ignoring the K.E. for now, therefore only dealing with the potenital energy\n",
    "potential = V_in_s(s)\n",
    "V_0 = potential[\"unperturbed\"]\n",
    "eigen_states = HO_states()\n",
    "psi_0 = eigen_states[\"HO_gs\"]\n",
    "\n",
    "E0 = energy_calculation(V_0, psi_0, s)"
   ]
  },
  {
   "cell_type": "code",
   "execution_count": 84,
   "id": "7b0a7c73",
   "metadata": {},
   "outputs": [],
   "source": [
    "# Calculating only perturbation part\n",
    "V_dash = potential[\"perturbed\"]\n",
    "psi_0 = eigen_states[\"HO_gs\"]\n",
    "\n",
    "E0_pert = energy_calculation(V_dash, psi_0, s)"
   ]
  },
  {
   "cell_type": "code",
   "execution_count": 94,
   "id": "0a1011a1",
   "metadata": {},
   "outputs": [
    {
     "data": {
      "text/plain": [
       "(0.325, 0.25)"
      ]
     },
     "execution_count": 94,
     "metadata": {},
     "output_type": "execute_result"
    }
   ],
   "source": [
    "E0_dash = E0 + E0_pert\n",
    "E0_dash, E0"
   ]
  },
  {
   "cell_type": "markdown",
   "id": "73a6cf9a",
   "metadata": {},
   "source": [
    "                    # let's apply perturbtaion to 1st e.s of the H.O."
   ]
  },
  {
   "cell_type": "code",
   "execution_count": 92,
   "id": "89a60648",
   "metadata": {},
   "outputs": [],
   "source": [
    "potential = V_in_s(s)\n",
    "V_0 = potential[\"unperturbed\"]\n",
    "V_dash = potential[\"perturbed\"]\n",
    "eigen_states = HO_states()\n",
    "psi_1 = eigen_states[\"HO_1es\"]\n",
    "\n",
    "E1 = energy_calculation(V_0, psi_1, s)\n",
    "E1_pert = energy_calculation(V_dash, psi_1, s)"
   ]
  },
  {
   "cell_type": "code",
   "execution_count": 93,
   "id": "b229d971",
   "metadata": {},
   "outputs": [
    {
     "data": {
      "text/plain": [
       "(1.125, 0.75)"
      ]
     },
     "execution_count": 93,
     "metadata": {},
     "output_type": "execute_result"
    }
   ],
   "source": [
    "E1_dash = E1 + E1_pert\n",
    "E1_dash, E1"
   ]
  },
  {
   "cell_type": "code",
   "execution_count": null,
   "id": "b2fa6491",
   "metadata": {},
   "outputs": [],
   "source": []
  }
 ],
 "metadata": {
  "kernelspec": {
   "display_name": "Python 3",
   "language": "python",
   "name": "python3"
  },
  "language_info": {
   "codemirror_mode": {
    "name": "ipython",
    "version": 3
   },
   "file_extension": ".py",
   "mimetype": "text/x-python",
   "name": "python",
   "nbconvert_exporter": "python",
   "pygments_lexer": "ipython3",
   "version": "3.8.8"
  }
 },
 "nbformat": 4,
 "nbformat_minor": 5
}
